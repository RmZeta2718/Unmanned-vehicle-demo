{
 "cells": [
  {
   "cell_type": "code",
   "execution_count": 22,
   "metadata": {},
   "outputs": [],
   "source": [
    "import re\n",
    "\n",
    "targets = []\n",
    "\n",
    "with open('mscoco_complete_label_map.pbtxt', 'r') as f:\n",
    "    lines = f.readlines()[3::5]\n",
    "    for line in lines:\n",
    "        targets.append(line[17:-2])\n",
    "\n",
    "def tostr(s):\n",
    "    return '\"' + s + '\"'\n",
    "\n",
    "with open('detection_target.json', 'w') as f:\n",
    "    f.write('{\"name\": [' + ', '.join(map(tostr, targets)) + ']}')\n",
    "    "
   ]
  },
  {
   "cell_type": "code",
   "execution_count": null,
   "metadata": {},
   "outputs": [],
   "source": []
  },
  {
   "cell_type": "code",
   "execution_count": null,
   "metadata": {},
   "outputs": [],
   "source": []
  }
 ],
 "metadata": {
  "kernelspec": {
   "display_name": "Python 3",
   "language": "python",
   "name": "python3"
  },
  "language_info": {
   "codemirror_mode": {
    "name": "ipython",
    "version": 3
   },
   "file_extension": ".py",
   "mimetype": "text/x-python",
   "name": "python",
   "nbconvert_exporter": "python",
   "pygments_lexer": "ipython3",
   "version": "3.6.9"
  }
 },
 "nbformat": 4,
 "nbformat_minor": 4
}
