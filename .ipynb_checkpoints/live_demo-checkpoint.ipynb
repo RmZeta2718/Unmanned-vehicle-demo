{
 "cells": [
  {
   "cell_type": "markdown",
   "metadata": {},
   "source": [
    "First, let's load the JSON file which describes the human pose task.  This is in COCO format, it is the category descriptor pulled from the annotations file.  We modify the COCO category slightly, to add a neck keypoint.  We will use this task description JSON to create a topology tensor, which is an intermediate data structure that describes the part linkages, as well as which channels in the part affinity field each linkage corresponds to."
   ]
  },
  {
   "cell_type": "code",
   "execution_count": 1,
   "metadata": {},
   "outputs": [],
   "source": [
    "import sys\n",
    "\n",
    "sys.path.insert(0, \"~/trt_pose/\")"
   ]
  },
  {
   "cell_type": "code",
   "execution_count": 2,
   "metadata": {},
   "outputs": [
    {
     "data": {
      "text/plain": [
       "['~/trt_pose/',\n",
       " '/usr/lib/python36.zip',\n",
       " '/usr/lib/python3.6',\n",
       " '/usr/lib/python3.6/lib-dynload',\n",
       " '',\n",
       " '/home/jetbot/.local/lib/python3.6/site-packages',\n",
       " '/usr/local/lib/python3.6/dist-packages',\n",
       " '/usr/local/lib/python3.6/dist-packages/torchvision-0.4.0a0+d31eafa-py3.6-linux-aarch64.egg',\n",
       " '/usr/local/lib/python3.6/dist-packages/Adafruit_SSD1306-1.6.2-py3.6.egg',\n",
       " '/usr/local/lib/python3.6/dist-packages/Adafruit_MotorHAT-1.4.0-py3.6.egg',\n",
       " '/usr/local/lib/python3.6/dist-packages/Adafruit_GPIO-1.0.4-py3.6.egg',\n",
       " '/usr/local/lib/python3.6/dist-packages/spidev-3.4-py3.6-linux-aarch64.egg',\n",
       " '/usr/local/lib/python3.6/dist-packages/Adafruit_PureIO-1.0.4-py3.6.egg',\n",
       " '/usr/local/lib/python3.6/dist-packages/jetbot-0.4.0-py3.6.egg',\n",
       " '/usr/local/lib/python3.6/dist-packages/trt_pose-0.0.1-py3.6-linux-aarch64.egg',\n",
       " '/usr/local/lib/python3.6/dist-packages/torch2trt-0.2.0-py3.6.egg',\n",
       " '/usr/local/lib/python3.6/dist-packages/jetcam-0.0.0-py3.6.egg',\n",
       " '/usr/lib/python3/dist-packages',\n",
       " '/usr/lib/python3.6/dist-packages',\n",
       " '/usr/local/lib/python3.6/dist-packages/IPython/extensions',\n",
       " '/home/jetbot/.ipython']"
      ]
     },
     "execution_count": 2,
     "metadata": {},
     "output_type": "execute_result"
    }
   ],
   "source": [
    "sys.path"
   ]
  },
  {
   "cell_type": "code",
   "execution_count": 1,
   "metadata": {},
   "outputs": [
    {
     "name": "stderr",
     "output_type": "stream",
     "text": [
      "Matplotlib created a temporary config/cache directory at /tmp/matplotlib-vsv4fmfq because the default path (/home/jetbot/.cache/matplotlib) is not a writable directory; it is highly recommended to set the MPLCONFIGDIR environment variable to a writable directory, in particular to speed up the import of Matplotlib and to better support multiprocessing.\n"
     ]
    },
    {
     "name": "stdout",
     "output_type": "stream",
     "text": [
      "['/home/jetbot/trt_pose/tasks/human_pose/trt_pose']\n",
      "[[16, 14], [14, 12], [17, 15], [15, 13], [12, 13], [6, 8], [7, 9], [8, 10], [9, 11], [2, 3], [1, 2], [1, 3], [2, 4], [3, 5], [4, 6], [5, 7], [18, 1], [18, 6], [18, 7], [18, 12], [18, 13]]\n",
      "tensor([[ 0,  1, 15, 13],\n",
      "        [ 2,  3, 13, 11],\n",
      "        [ 4,  5, 16, 14],\n",
      "        [ 6,  7, 14, 12],\n",
      "        [ 8,  9, 11, 12],\n",
      "        [10, 11,  5,  7],\n",
      "        [12, 13,  6,  8],\n",
      "        [14, 15,  7,  9],\n",
      "        [16, 17,  8, 10],\n",
      "        [18, 19,  1,  2],\n",
      "        [20, 21,  0,  1],\n",
      "        [22, 23,  0,  2],\n",
      "        [24, 25,  1,  3],\n",
      "        [26, 27,  2,  4],\n",
      "        [28, 29,  3,  5],\n",
      "        [30, 31,  4,  6],\n",
      "        [32, 33, 17,  0],\n",
      "        [34, 35, 17,  5],\n",
      "        [36, 37, 17,  6],\n",
      "        [38, 39, 17, 11],\n",
      "        [40, 41, 17, 12]], dtype=torch.int32)\n"
     ]
    }
   ],
   "source": [
    "import json\n",
    "import trt_pose.coco\n",
    "import trt_pose\n",
    "\n",
    "print(trt_pose.__path__)\n",
    "with open('human_pose.json', 'r') as f:\n",
    "    human_pose = json.load(f)\n",
    "\n",
    "topology = trt_pose.coco.coco_category_to_topology(human_pose)\n",
    "# tag: [7, 9] [8, 10]\n",
    "# tag in topology [6, 8] [7, 9]\n",
    "# tag index 6. 7"
   ]
  },
  {
   "cell_type": "code",
   "execution_count": 2,
   "metadata": {},
   "outputs": [
    {
     "name": "stdout",
     "output_type": "stream",
     "text": [
      "21\n"
     ]
    }
   ],
   "source": [
    "print(topology.shape[0])"
   ]
  },
  {
   "cell_type": "code",
   "execution_count": null,
   "metadata": {},
   "outputs": [],
   "source": []
  },
  {
   "cell_type": "markdown",
   "metadata": {},
   "source": [
    "Next, we'll load our model.  Each model takes at least two parameters, *cmap_channels* and *paf_channels* corresponding to the number of heatmap channels\n",
    "and part affinity field channels.  The number of part affinity field channels is 2x the number of links, because each link has a channel corresponding to the\n",
    "x and y direction of the vector field for each link."
   ]
  },
  {
   "cell_type": "code",
   "execution_count": 3,
   "metadata": {},
   "outputs": [],
   "source": [
    "import trt_pose.models\n",
    "\n",
    "num_parts = len(human_pose['keypoints'])\n",
    "num_links = len(human_pose['skeleton'])\n",
    "\n",
    "model = trt_pose.models.resnet18_baseline_att(num_parts, 2 * num_links).cuda().eval()"
   ]
  },
  {
   "cell_type": "markdown",
   "metadata": {},
   "source": [
    "Next, let's load the model weights.  You will need to download these according to the table in the README."
   ]
  },
  {
   "cell_type": "code",
   "execution_count": 4,
   "metadata": {},
   "outputs": [
    {
     "data": {
      "text/plain": [
       "<All keys matched successfully>"
      ]
     },
     "execution_count": 4,
     "metadata": {},
     "output_type": "execute_result"
    }
   ],
   "source": [
    "import torch\n",
    "\n",
    "MODEL_WEIGHTS = 'resnet18_baseline_att_224x224_A_epoch_249.pth'\n",
    "\n",
    "model.load_state_dict(torch.load(MODEL_WEIGHTS))"
   ]
  },
  {
   "cell_type": "markdown",
   "metadata": {},
   "source": [
    "In order to optimize with TensorRT using the python library *torch2trt* we'll also need to create some example data.  The dimensions\n",
    "of this data should match the dimensions that the network was trained with.  Since we're using the resnet18 variant that was trained on\n",
    "an input resolution of 224x224, we set the width and height to these dimensions."
   ]
  },
  {
   "cell_type": "code",
   "execution_count": 5,
   "metadata": {},
   "outputs": [],
   "source": [
    "WIDTH = 224\n",
    "HEIGHT = 224\n",
    "\n",
    "data = torch.zeros((1, 3, HEIGHT, WIDTH)).cuda()"
   ]
  },
  {
   "cell_type": "markdown",
   "metadata": {},
   "source": [
    "Next, we'll use [torch2trt](https://github.com/NVIDIA-AI-IOT/torch2trt) to optimize the model.  We'll enable fp16_mode to allow optimizations to use reduced half precision."
   ]
  },
  {
   "cell_type": "code",
   "execution_count": 6,
   "metadata": {},
   "outputs": [],
   "source": [
    "import torch2trt\n",
    "\n",
    "model_trt = torch2trt.torch2trt(model, [data], fp16_mode=True, max_workspace_size=1<<25)"
   ]
  },
  {
   "cell_type": "markdown",
   "metadata": {},
   "source": [
    "The optimized model may be saved so that we do not need to perform optimization again, we can just load the model.  Please note that TensorRT has device specific optimizations, so you can only use an optimized model on similar platforms."
   ]
  },
  {
   "cell_type": "code",
   "execution_count": 7,
   "metadata": {},
   "outputs": [],
   "source": [
    "OPTIMIZED_MODEL = 'resnet18_baseline_att_224x224_A_epoch_249_trt.pth'\n",
    "\n",
    "torch.save(model_trt.state_dict(), OPTIMIZED_MODEL)"
   ]
  },
  {
   "cell_type": "markdown",
   "metadata": {},
   "source": [
    "We could then load the saved model using *torch2trt* as follows."
   ]
  },
  {
   "cell_type": "code",
   "execution_count": 8,
   "metadata": {},
   "outputs": [
    {
     "data": {
      "text/plain": [
       "<All keys matched successfully>"
      ]
     },
     "execution_count": 8,
     "metadata": {},
     "output_type": "execute_result"
    }
   ],
   "source": [
    "from torch2trt import TRTModule\n",
    "\n",
    "model_trt = TRTModule()\n",
    "model_trt.load_state_dict(torch.load(OPTIMIZED_MODEL))"
   ]
  },
  {
   "cell_type": "markdown",
   "metadata": {},
   "source": [
    "We can benchmark the model in FPS with the following code"
   ]
  },
  {
   "cell_type": "code",
   "execution_count": 9,
   "metadata": {},
   "outputs": [
    {
     "name": "stdout",
     "output_type": "stream",
     "text": [
      "12.660554623707533\n"
     ]
    }
   ],
   "source": [
    "import time\n",
    "\n",
    "t0 = time.time()\n",
    "torch.cuda.current_stream().synchronize()\n",
    "for i in range(50):\n",
    "    y = model_trt(data)\n",
    "torch.cuda.current_stream().synchronize()\n",
    "t1 = time.time()\n",
    "\n",
    "print(50.0 / (t1 - t0))"
   ]
  },
  {
   "cell_type": "markdown",
   "metadata": {},
   "source": [
    "Next, let's define a function that will preprocess the image, which is originally in BGR8 / HWC format."
   ]
  },
  {
   "cell_type": "code",
   "execution_count": 10,
   "metadata": {},
   "outputs": [],
   "source": [
    "import cv2\n",
    "import torchvision.transforms as transforms\n",
    "import PIL.Image\n",
    "\n",
    "mean = torch.Tensor([0.485, 0.456, 0.406]).cuda()\n",
    "std = torch.Tensor([0.229, 0.224, 0.225]).cuda()\n",
    "device = torch.device('cuda')\n",
    "\n",
    "def preprocess(image):\n",
    "    global device\n",
    "    device = torch.device('cuda')\n",
    "    image = cv2.cvtColor(image, cv2.COLOR_BGR2RGB)\n",
    "    image = PIL.Image.fromarray(image)\n",
    "    image = transforms.functional.to_tensor(image).to(device)\n",
    "    image.sub_(mean[:, None, None]).div_(std[:, None, None])\n",
    "    return image[None, ...]"
   ]
  },
  {
   "cell_type": "markdown",
   "metadata": {},
   "source": [
    "Next, we'll define two callable classes that will be used to parse the objects from the neural network, as well as draw the parsed objects on an image."
   ]
  },
  {
   "cell_type": "code",
   "execution_count": 11,
   "metadata": {},
   "outputs": [],
   "source": [
    "from trt_pose.draw_objects import DrawObjects\n",
    "from trt_pose.parse_objects import ParseObjects\n",
    "\n",
    "parse_objects = ParseObjects(topology)\n",
    "draw_objects = DrawObjects(topology)"
   ]
  },
  {
   "cell_type": "markdown",
   "metadata": {},
   "source": [
    "Assuming you're using NVIDIA Jetson, you can use the [jetcam](https://github.com/NVIDIA-AI-IOT/jetcam) package to create an easy to use camera that will produce images in BGR8/HWC format.\n",
    "\n",
    "If you're not on Jetson, you may need to adapt the code below."
   ]
  },
  {
   "cell_type": "code",
   "execution_count": 12,
   "metadata": {},
   "outputs": [],
   "source": [
    "# from jetcam.usb_camera import USBCamera\n",
    "from jetcam.csi_camera import CSICamera\n",
    "from jetcam.utils import bgr8_to_jpeg\n",
    "\n",
    "# camera = USBCamera(width=WIDTH, height=HEIGHT, capture_fps=30)\n",
    "camera = CSICamera(width=WIDTH, height=HEIGHT, capture_fps=30)\n",
    "\n",
    "camera.running = True"
   ]
  },
  {
   "cell_type": "markdown",
   "metadata": {},
   "source": [
    "Next, we'll create a widget which will be used to display the camera feed with visualizations."
   ]
  },
  {
   "cell_type": "code",
   "execution_count": 13,
   "metadata": {},
   "outputs": [
    {
     "data": {
      "application/vnd.jupyter.widget-view+json": {
       "model_id": "f90706b008f9413ab1b57b8636f8b73e",
       "version_major": 2,
       "version_minor": 0
      },
      "text/plain": [
       "Image(value=b'', format='jpeg')"
      ]
     },
     "metadata": {},
     "output_type": "display_data"
    }
   ],
   "source": [
    "import ipywidgets\n",
    "from IPython.display import display\n",
    "\n",
    "image_w = ipywidgets.Image(format='jpeg')\n",
    "\n",
    "display(image_w)"
   ]
  },
  {
   "cell_type": "markdown",
   "metadata": {},
   "source": [
    "Finally, we'll define the main execution loop.  This will perform the following steps\n",
    "\n",
    "1.  Preprocess the camera image\n",
    "2.  Execute the neural network\n",
    "3.  Parse the objects from the neural network output\n",
    "4.  Draw the objects onto the camera image\n",
    "5.  Convert the image to JPEG format and stream to the display widget"
   ]
  },
  {
   "cell_type": "code",
   "execution_count": 14,
   "metadata": {},
   "outputs": [],
   "source": [
    "# counts, objects, peaks = None\n",
    "def execute(change):\n",
    "#     global counts, objects, peaks\n",
    "    image = change['new']\n",
    "    data = preprocess(image)\n",
    "    cmap, paf = model_trt(data)\n",
    "    cmap, paf = cmap.detach().cpu(), paf.detach().cpu()\n",
    "    counts, objects, peaks = parse_objects(cmap, paf)#, cmap_threshold=0.15, link_threshold=0.15)\n",
    "    x0, y0, x1, y1 = draw_objects(image, counts, objects, peaks)\n",
    "#     print(objects)\n",
    "    image_w.value = bgr8_to_jpeg(image[:, ::-1, :])\n",
    "    print(\"(%.2f, %.2f), (%.2f, %.2f)\" % (x0, y0, x1, y1))"
   ]
  },
  {
   "cell_type": "code",
   "execution_count": null,
   "metadata": {},
   "outputs": [],
   "source": [
    "# todo:\n",
    "# draw_objects.capture()"
   ]
  },
  {
   "cell_type": "code",
   "execution_count": null,
   "metadata": {},
   "outputs": [],
   "source": []
  },
  {
   "cell_type": "code",
   "execution_count": null,
   "metadata": {},
   "outputs": [],
   "source": []
  },
  {
   "cell_type": "markdown",
   "metadata": {},
   "source": [
    "If we call the cell below it will execute the function once on the current camera frame."
   ]
  },
  {
   "cell_type": "code",
   "execution_count": 15,
   "metadata": {},
   "outputs": [
    {
     "name": "stdout",
     "output_type": "stream",
     "text": [
      "(171.00, 26.00), (167.00, 58.00)\n"
     ]
    }
   ],
   "source": [
    "execute({'new': camera.value})"
   ]
  },
  {
   "cell_type": "markdown",
   "metadata": {},
   "source": [
    "Call the cell below to attach the execution function to the camera's internal value.  This will cause the execute function to be called whenever a new camera frame is received."
   ]
  },
  {
   "cell_type": "code",
   "execution_count": 16,
   "metadata": {
    "scrolled": true
   },
   "outputs": [
    {
     "name": "stdout",
     "output_type": "stream",
     "text": [
      "(140.00, 85.00), (135.00, 97.00)\n",
      "(139.00, 85.00), (134.00, 94.00)\n",
      "(139.00, 85.00), (134.00, 94.00)\n",
      "(154.00, 90.00), (153.00, 113.00)\n",
      "(139.00, 85.00), (135.00, 96.00)\n",
      "(154.00, 90.00), (153.00, 113.00)\n",
      "(155.00, 90.00), (151.00, 107.00)\n",
      "(140.00, 84.00), (137.00, 98.00)\n",
      "(154.00, 90.00), (154.00, 113.00)\n",
      "(139.00, 85.00), (135.00, 98.00)\n",
      "(138.00, 85.00), (135.00, 98.00)\n",
      "(139.00, 85.00), (136.00, 98.00)\n",
      "(139.00, 86.00), (136.00, 98.00)\n",
      "(139.00, 86.00), (136.00, 97.00)\n",
      "(154.00, 90.00), (153.00, 113.00)\n",
      "(139.00, 85.00), (136.00, 98.00)\n",
      "(139.00, 85.00), (136.00, 99.00)\n",
      "(139.00, 86.00), (135.00, 98.00)\n",
      "(154.00, 91.00), (153.00, 113.00)\n",
      "(154.00, 91.00), (152.00, 113.00)\n",
      "(139.00, 87.00), (135.00, 99.00)\n",
      "(153.00, 90.00), (153.00, 113.00)\n",
      "(154.00, 90.00), (153.00, 113.00)\n",
      "(138.00, 86.00), (135.00, 99.00)\n",
      "(154.00, 90.00), (154.00, 114.00)\n",
      "(138.00, 85.00), (136.00, 99.00)\n",
      "(138.00, 85.00), (135.00, 99.00)\n",
      "(138.00, 86.00), (135.00, 100.00)\n",
      "(138.00, 85.00), (135.00, 101.00)\n",
      "(138.00, 85.00), (135.00, 99.00)\n",
      "(139.00, 85.00), (138.00, 100.00)\n",
      "(154.00, 90.00), (153.00, 113.00)\n",
      "(154.00, 90.00), (150.00, 110.00)\n",
      "(154.00, 90.00), (153.00, 113.00)\n",
      "(154.00, 90.00), (154.00, 113.00)\n",
      "(155.00, 90.00), (154.00, 114.00)\n",
      "(154.00, 90.00), (153.00, 114.00)\n",
      "(154.00, 90.00), (153.00, 114.00)\n",
      "(154.00, 90.00), (154.00, 114.00)\n",
      "(136.00, 85.00), (133.00, 98.00)\n",
      "(155.00, 90.00), (154.00, 114.00)\n",
      "(136.00, 86.00), (134.00, 97.00)\n",
      "(136.00, 86.00), (134.00, 97.00)\n",
      "(154.00, 91.00), (153.00, 113.00)\n",
      "(138.00, 86.00), (135.00, 97.00)\n",
      "(154.00, 91.00), (153.00, 113.00)\n",
      "(136.00, 86.00), (134.00, 98.00)\n",
      "(154.00, 91.00), (153.00, 114.00)\n",
      "(138.00, 87.00), (134.00, 98.00)\n",
      "(136.00, 86.00), (133.00, 98.00)\n",
      "(138.00, 86.00), (134.00, 98.00)\n",
      "(138.00, 87.00), (134.00, 98.00)\n",
      "(139.00, 86.00), (134.00, 98.00)\n",
      "(138.00, 86.00), (133.00, 98.00)\n",
      "(154.00, 91.00), (153.00, 114.00)\n",
      "(139.00, 86.00), (134.00, 99.00)\n",
      "(154.00, 90.00), (153.00, 114.00)\n",
      "(153.00, 88.00), (153.00, 110.00)\n",
      "(153.00, 89.00), (154.00, 113.00)\n",
      "(153.00, 89.00), (154.00, 114.00)\n",
      "(138.00, 86.00), (133.00, 98.00)\n",
      "(155.00, 87.00), (151.00, 114.00)\n",
      "(154.00, 90.00), (151.00, 114.00)\n",
      "(154.00, 89.00), (152.00, 116.00)\n",
      "(154.00, 90.00), (152.00, 114.00)\n",
      "(154.00, 89.00), (152.00, 113.00)\n",
      "(155.00, 89.00), (153.00, 114.00)\n",
      "(155.00, 88.00), (153.00, 113.00)\n",
      "(138.00, 85.00), (134.00, 98.00)\n",
      "(155.00, 89.00), (151.00, 111.00)\n",
      "(157.00, 89.00), (153.00, 116.00)\n",
      "(157.00, 89.00), (153.00, 114.00)\n",
      "(157.00, 89.00), (152.00, 114.00)\n",
      "(157.00, 89.00), (152.00, 114.00)\n",
      "(157.00, 90.00), (152.00, 114.00)\n",
      "(157.00, 90.00), (153.00, 115.00)\n",
      "(157.00, 90.00), (153.00, 114.00)\n",
      "(157.00, 90.00), (152.00, 114.00)\n",
      "(157.00, 90.00), (154.00, 114.00)\n",
      "(158.00, 90.00), (153.00, 115.00)\n",
      "(157.00, 92.00), (153.00, 115.00)\n",
      "(157.00, 92.00), (153.00, 114.00)\n",
      "(157.00, 92.00), (151.00, 113.00)\n",
      "(156.00, 90.00), (151.00, 113.00)\n",
      "(157.00, 90.00), (151.00, 114.00)\n",
      "(157.00, 90.00), (151.00, 114.00)\n",
      "(157.00, 90.00), (151.00, 113.00)\n",
      "(157.00, 90.00), (151.00, 113.00)\n",
      "(157.00, 90.00), (151.00, 114.00)\n",
      "(157.00, 91.00), (150.00, 114.00)\n",
      "(157.00, 90.00), (152.00, 114.00)\n",
      "(138.00, 86.00), (134.00, 99.00)\n",
      "(157.00, 91.00), (151.00, 114.00)\n",
      "(157.00, 90.00), (151.00, 114.00)\n",
      "(157.00, 90.00), (151.00, 113.00)\n",
      "(157.00, 90.00), (152.00, 114.00)\n",
      "(157.00, 90.00), (153.00, 114.00)\n",
      "(157.00, 90.00), (151.00, 114.00)\n",
      "(157.00, 90.00), (151.00, 114.00)\n",
      "(135.00, 85.00), (134.00, 102.00)\n",
      "(157.00, 90.00), (151.00, 114.00)\n",
      "(157.00, 92.00), (153.00, 116.00)\n",
      "(138.00, 87.00), (134.00, 102.00)\n",
      "(158.00, 92.00), (153.00, 114.00)\n",
      "(157.00, 90.00), (151.00, 114.00)\n",
      "(158.00, 91.00), (153.00, 114.00)\n",
      "(157.00, 90.00), (152.00, 114.00)\n",
      "(157.00, 90.00), (153.00, 114.00)\n",
      "(158.00, 90.00), (152.00, 115.00)\n",
      "(157.00, 90.00), (151.00, 111.00)\n",
      "(157.00, 90.00), (153.00, 114.00)\n",
      "(158.00, 91.00), (153.00, 115.00)\n",
      "(157.00, 90.00), (153.00, 114.00)\n",
      "(157.00, 90.00), (151.00, 114.00)\n",
      "(157.00, 90.00), (153.00, 115.00)\n",
      "(157.00, 90.00), (152.00, 114.00)\n",
      "(155.00, 90.00), (151.00, 114.00)\n",
      "(138.00, 86.00), (134.00, 101.00)\n",
      "(155.00, 89.00), (153.00, 114.00)\n",
      "(155.00, 89.00), (151.00, 113.00)\n",
      "(157.00, 90.00), (150.00, 110.00)\n",
      "(155.00, 89.00), (151.00, 113.00)\n",
      "(155.00, 89.00), (151.00, 113.00)\n",
      "(154.00, 89.00), (147.00, 106.00)\n",
      "(155.00, 89.00), (150.00, 110.00)\n",
      "(157.00, 89.00), (153.00, 113.00)\n",
      "(128.00, 83.00), (127.00, 96.00)\n",
      "(157.00, 89.00), (150.00, 110.00)\n",
      "(127.00, 82.00), (126.00, 95.00)\n",
      "(154.00, 87.00), (150.00, 110.00)\n",
      "(128.00, 80.00), (127.00, 91.00)\n",
      "(128.00, 81.00), (127.00, 92.00)\n",
      "(153.00, 89.00), (149.00, 110.00)\n",
      "(153.00, 89.00), (148.00, 110.00)\n",
      "(154.00, 90.00), (150.00, 113.00)\n",
      "(153.00, 89.00), (149.00, 110.00)\n",
      "(153.00, 89.00), (151.00, 113.00)\n",
      "(154.00, 90.00), (152.00, 114.00)\n",
      "(153.00, 89.00), (150.00, 113.00)\n",
      "(153.00, 89.00), (150.00, 113.00)\n",
      "(153.00, 89.00), (150.00, 113.00)\n",
      "(152.00, 89.00), (149.00, 113.00)\n",
      "(168.00, 15.00), (169.00, 54.00)\n",
      "(168.00, 15.00), (169.00, 55.00)\n",
      "(170.00, 10.00), (171.00, 62.00)\n",
      "(152.00, 88.00), (149.00, 110.00)\n",
      "(153.00, 89.00), (149.00, 110.00)\n",
      "(153.00, 89.00), (150.00, 112.00)\n",
      "(152.00, 88.00), (143.00, 103.00)\n",
      "(153.00, 89.00), (151.00, 113.00)\n",
      "(153.00, 89.00), (144.00, 103.00)\n",
      "(152.00, 84.00), (143.00, 99.00)\n",
      "(146.00, 86.00), (143.00, 101.00)\n",
      "(127.00, 80.00), (127.00, 93.00)\n",
      "(127.00, 80.00), (125.00, 91.00)\n",
      "(137.00, 35.00), (136.00, 63.00)\n",
      "(156.00, 91.00), (151.00, 114.00)\n",
      "(153.00, 90.00), (149.00, 114.00)\n",
      "(153.00, 91.00), (151.00, 115.00)\n",
      "(152.00, 90.00), (151.00, 114.00)\n",
      "(152.00, 89.00), (146.00, 107.00)\n",
      "(152.00, 89.00), (152.00, 113.00)\n",
      "(152.00, 88.00), (149.00, 110.00)\n",
      "(153.00, 89.00), (150.00, 112.00)\n",
      "(152.00, 89.00), (150.00, 112.00)\n",
      "(153.00, 89.00), (152.00, 114.00)\n",
      "(152.00, 89.00), (151.00, 113.00)\n",
      "(153.00, 89.00), (152.00, 113.00)\n",
      "(153.00, 89.00), (152.00, 114.00)\n",
      "(153.00, 89.00), (150.00, 112.00)\n",
      "(152.00, 89.00), (147.00, 109.00)\n",
      "(152.00, 89.00), (148.00, 109.00)\n",
      "(-1.00, -1.00), (-1.00, -1.00)\n",
      "(-1.00, -1.00), (-1.00, -1.00)\n",
      "(-1.00, -1.00), (-1.00, -1.00)\n",
      "(-1.00, -1.00), (-1.00, -1.00)\n",
      "(-1.00, -1.00), (-1.00, -1.00)\n",
      "(-1.00, -1.00), (-1.00, -1.00)\n",
      "(-1.00, -1.00), (-1.00, -1.00)\n",
      "(-1.00, -1.00), (-1.00, -1.00)\n",
      "(-1.00, -1.00), (-1.00, -1.00)\n",
      "(-1.00, -1.00), (-1.00, -1.00)\n",
      "(-1.00, -1.00), (-1.00, -1.00)\n",
      "(-1.00, -1.00), (-1.00, -1.00)\n",
      "(-1.00, -1.00), (-1.00, -1.00)\n",
      "(-1.00, -1.00), (-1.00, -1.00)\n",
      "(-1.00, -1.00), (-1.00, -1.00)\n",
      "(-1.00, -1.00), (-1.00, -1.00)\n",
      "(-1.00, -1.00), (-1.00, -1.00)\n",
      "(-1.00, -1.00), (-1.00, -1.00)\n",
      "(-1.00, -1.00), (-1.00, -1.00)\n",
      "(-1.00, -1.00), (-1.00, -1.00)\n",
      "(-1.00, -1.00), (-1.00, -1.00)\n",
      "(-1.00, -1.00), (-1.00, -1.00)\n",
      "(-1.00, -1.00), (-1.00, -1.00)\n",
      "(-1.00, -1.00), (-1.00, -1.00)\n",
      "(-1.00, -1.00), (-1.00, -1.00)\n",
      "(-1.00, -1.00), (-1.00, -1.00)\n",
      "(-1.00, -1.00), (-1.00, -1.00)\n",
      "(-1.00, -1.00), (-1.00, -1.00)\n",
      "(-1.00, -1.00), (-1.00, -1.00)\n",
      "(-1.00, -1.00), (-1.00, -1.00)\n",
      "(-1.00, -1.00), (-1.00, -1.00)\n",
      "(-1.00, -1.00), (-1.00, -1.00)\n",
      "(-1.00, -1.00), (-1.00, -1.00)\n",
      "(-1.00, -1.00), (-1.00, -1.00)\n",
      "(-1.00, -1.00), (-1.00, -1.00)\n",
      "(-1.00, -1.00), (-1.00, -1.00)\n",
      "(-1.00, -1.00), (-1.00, -1.00)\n",
      "(-1.00, -1.00), (-1.00, -1.00)\n",
      "(-1.00, -1.00), (-1.00, -1.00)\n",
      "(-1.00, -1.00), (-1.00, -1.00)\n",
      "(-1.00, -1.00), (-1.00, -1.00)\n",
      "(-1.00, -1.00), (-1.00, -1.00)\n",
      "(-1.00, -1.00), (-1.00, -1.00)\n",
      "(-1.00, -1.00), (-1.00, -1.00)\n",
      "(-1.00, -1.00), (-1.00, -1.00)\n",
      "(-1.00, -1.00), (-1.00, -1.00)\n",
      "(-1.00, -1.00), (-1.00, -1.00)\n",
      "(-1.00, -1.00), (-1.00, -1.00)\n",
      "(-1.00, -1.00), (-1.00, -1.00)\n",
      "(-1.00, -1.00), (-1.00, -1.00)\n",
      "(-1.00, -1.00), (-1.00, -1.00)\n",
      "(-1.00, -1.00), (-1.00, -1.00)\n",
      "(-1.00, -1.00), (-1.00, -1.00)\n",
      "(-1.00, -1.00), (-1.00, -1.00)\n",
      "(-1.00, -1.00), (-1.00, -1.00)\n",
      "(-1.00, -1.00), (-1.00, -1.00)\n",
      "(-1.00, -1.00), (-1.00, -1.00)\n",
      "(-1.00, -1.00), (-1.00, -1.00)\n",
      "(-1.00, -1.00), (-1.00, -1.00)\n",
      "(-1.00, -1.00), (-1.00, -1.00)\n",
      "(-1.00, -1.00), (-1.00, -1.00)\n",
      "(-1.00, -1.00), (-1.00, -1.00)\n",
      "(-1.00, -1.00), (-1.00, -1.00)\n",
      "(-1.00, -1.00), (-1.00, -1.00)\n",
      "(-1.00, -1.00), (-1.00, -1.00)\n",
      "(-1.00, -1.00), (-1.00, -1.00)\n",
      "(-1.00, -1.00), (-1.00, -1.00)\n",
      "(-1.00, -1.00), (-1.00, -1.00)\n",
      "(-1.00, -1.00), (-1.00, -1.00)\n",
      "(-1.00, -1.00), (-1.00, -1.00)\n",
      "(-1.00, -1.00), (-1.00, -1.00)\n",
      "(-1.00, -1.00), (-1.00, -1.00)\n",
      "(-1.00, -1.00), (-1.00, -1.00)\n",
      "(-1.00, -1.00), (-1.00, -1.00)\n",
      "(-1.00, -1.00), (-1.00, -1.00)\n",
      "(-1.00, -1.00), (-1.00, -1.00)\n",
      "(-1.00, -1.00), (-1.00, -1.00)\n",
      "(-1.00, -1.00), (-1.00, -1.00)\n",
      "(-1.00, -1.00), (-1.00, -1.00)\n",
      "(-1.00, -1.00), (-1.00, -1.00)\n",
      "(-1.00, -1.00), (-1.00, -1.00)\n",
      "(-1.00, -1.00), (-1.00, -1.00)\n",
      "(-1.00, -1.00), (-1.00, -1.00)\n",
      "(-1.00, -1.00), (-1.00, -1.00)\n",
      "(-1.00, -1.00), (-1.00, -1.00)\n",
      "(-1.00, -1.00), (-1.00, -1.00)\n",
      "(-1.00, -1.00), (-1.00, -1.00)\n",
      "(-1.00, -1.00), (-1.00, -1.00)\n",
      "(-1.00, -1.00), (-1.00, -1.00)\n",
      "(-1.00, -1.00), (-1.00, -1.00)\n",
      "(-1.00, -1.00), (-1.00, -1.00)\n",
      "(-1.00, -1.00), (-1.00, -1.00)\n",
      "(-1.00, -1.00), (-1.00, -1.00)\n",
      "(-1.00, -1.00), (-1.00, -1.00)\n",
      "(-1.00, -1.00), (-1.00, -1.00)\n",
      "(-1.00, -1.00), (-1.00, -1.00)\n",
      "(-1.00, -1.00), (-1.00, -1.00)\n",
      "(-1.00, -1.00), (-1.00, -1.00)\n",
      "(-1.00, -1.00), (-1.00, -1.00)\n",
      "(-1.00, -1.00), (-1.00, -1.00)\n",
      "(-1.00, -1.00), (-1.00, -1.00)\n",
      "(-1.00, -1.00), (-1.00, -1.00)\n",
      "(-1.00, -1.00), (-1.00, -1.00)\n",
      "(-1.00, -1.00), (-1.00, -1.00)\n",
      "(-1.00, -1.00), (-1.00, -1.00)\n",
      "(-1.00, -1.00), (-1.00, -1.00)\n",
      "(-1.00, -1.00), (-1.00, -1.00)\n",
      "(-1.00, -1.00), (-1.00, -1.00)\n",
      "(-1.00, -1.00), (-1.00, -1.00)\n",
      "(-1.00, -1.00), (-1.00, -1.00)\n",
      "(-1.00, -1.00), (-1.00, -1.00)\n",
      "(-1.00, -1.00), (-1.00, -1.00)\n",
      "(-1.00, -1.00), (-1.00, -1.00)\n",
      "(-1.00, -1.00), (-1.00, -1.00)\n",
      "(-1.00, -1.00), (-1.00, -1.00)\n",
      "(-1.00, -1.00), (-1.00, -1.00)\n",
      "(-1.00, -1.00), (-1.00, -1.00)\n",
      "(-1.00, -1.00), (-1.00, -1.00)\n",
      "(-1.00, -1.00), (-1.00, -1.00)\n",
      "(-1.00, -1.00), (-1.00, -1.00)\n",
      "(-1.00, -1.00), (-1.00, -1.00)\n",
      "(-1.00, -1.00), (-1.00, -1.00)\n",
      "(-1.00, -1.00), (-1.00, -1.00)\n",
      "(-1.00, -1.00), (-1.00, -1.00)\n",
      "(-1.00, -1.00), (-1.00, -1.00)\n",
      "(-1.00, -1.00), (-1.00, -1.00)\n",
      "(-1.00, -1.00), (-1.00, -1.00)\n",
      "(-1.00, -1.00), (-1.00, -1.00)\n",
      "(-1.00, -1.00), (-1.00, -1.00)\n",
      "(-1.00, -1.00), (-1.00, -1.00)\n",
      "(-1.00, -1.00), (-1.00, -1.00)\n",
      "(-1.00, -1.00), (-1.00, -1.00)\n",
      "(-1.00, -1.00), (-1.00, -1.00)\n",
      "(-1.00, -1.00), (-1.00, -1.00)\n",
      "(-1.00, -1.00), (-1.00, -1.00)\n",
      "(-1.00, -1.00), (-1.00, -1.00)\n",
      "(-1.00, -1.00), (-1.00, -1.00)\n",
      "(-1.00, -1.00), (-1.00, -1.00)\n",
      "(-1.00, -1.00), (-1.00, -1.00)\n",
      "(-1.00, -1.00), (-1.00, -1.00)\n",
      "(-1.00, -1.00), (-1.00, -1.00)\n",
      "(-1.00, -1.00), (-1.00, -1.00)\n",
      "(-1.00, -1.00), (-1.00, -1.00)\n",
      "(-1.00, -1.00), (-1.00, -1.00)\n",
      "(146.00, 81.00), (143.00, 103.00)\n",
      "(148.00, 79.00), (145.00, 102.00)\n",
      "(148.00, 79.00), (145.00, 104.00)\n",
      "(146.00, 79.00), (145.00, 103.00)\n",
      "(147.00, 80.00), (145.00, 103.00)\n",
      "(147.00, 80.00), (144.00, 104.00)\n",
      "(148.00, 80.00), (145.00, 105.00)\n",
      "(147.00, 80.00), (145.00, 105.00)\n"
     ]
    }
   ],
   "source": [
    "camera.observe(execute, names='value')"
   ]
  },
  {
   "cell_type": "markdown",
   "metadata": {},
   "source": [
    "Call the cell below to unattach the camera frame callbacks."
   ]
  },
  {
   "cell_type": "code",
   "execution_count": 17,
   "metadata": {},
   "outputs": [
    {
     "name": "stdout",
     "output_type": "stream",
     "text": [
      "(148.00, 79.00), (145.00, 103.00)\n",
      "(148.00, 79.00), (144.00, 105.00)\n"
     ]
    }
   ],
   "source": [
    "camera.unobserve_all()"
   ]
  },
  {
   "cell_type": "code",
   "execution_count": null,
   "metadata": {},
   "outputs": [],
   "source": []
  }
 ],
 "metadata": {
  "kernelspec": {
   "display_name": "Python 3",
   "language": "python",
   "name": "python3"
  },
  "language_info": {
   "codemirror_mode": {
    "name": "ipython",
    "version": 3
   },
   "file_extension": ".py",
   "mimetype": "text/x-python",
   "name": "python",
   "nbconvert_exporter": "python",
   "pygments_lexer": "ipython3",
   "version": "3.6.9"
  }
 },
 "nbformat": 4,
 "nbformat_minor": 4
}
